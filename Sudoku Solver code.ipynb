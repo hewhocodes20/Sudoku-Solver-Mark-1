{
 "cells": [
  {
   "cell_type": "code",
   "execution_count": 3,
   "id": "9733fccc-0623-4af6-8bf2-7b21ccdf6279",
   "metadata": {},
   "outputs": [
    {
     "name": "stdout",
     "output_type": "stream",
     "text": [
      "Solved Sudoku:\n",
      "[[5 3 4 6 7 8 9 1 2]\n",
      " [6 7 2 1 9 5 3 4 8]\n",
      " [1 9 8 3 4 2 5 6 7]\n",
      " [8 5 9 7 6 1 4 2 3]\n",
      " [4 2 6 8 5 3 7 9 1]\n",
      " [7 1 3 9 2 4 8 5 6]\n",
      " [9 6 1 5 3 7 2 8 4]\n",
      " [2 8 7 4 1 9 6 3 5]\n",
      " [3 4 5 2 8 6 1 7 9]]\n"
     ]
    }
   ],
   "source": [
    "import numpy as np\n",
    "\n",
    "def solve(grid, r=0, c=0):\n",
    "    if r == 9:\n",
    "        return True\n",
    "    if grid[r][c] != 0:\n",
    "        return solve(grid, r + (c + 1) // 9, (c + 1) % 9)\n",
    "\n",
    "    for k in range(1, 10):\n",
    "        if is_valid(grid, r, c, k):\n",
    "            grid[r][c] = k\n",
    "            if solve(grid, r + (c + 1) // 9, (c + 1) % 9):\n",
    "                return True\n",
    "    grid[r][c] = 0\n",
    "    return False\n",
    "\n",
    "def is_valid(grid, r, c, k):\n",
    "    return not any(grid[r][j] == k for j in range(9)) \\\n",
    "        and not any(grid[i][c] == k for i in range(9)) \\\n",
    "        and not any(grid[r // 3 * 3 + i][c // 3 * 3 + j] == k\n",
    "                    for i in range(3) for j in range(3))\n",
    "\n",
    "# Define puzzle using numpy array\n",
    "puzzle = np.array([\n",
    "    [5, 3, 0, 0, 7, 0, 0, 0, 0],\n",
    "    [6, 0, 0, 1, 9, 5, 0, 0, 0],\n",
    "    [0, 9, 8, 0, 0, 0, 0, 6, 0],\n",
    "    [8, 0, 0, 0, 6, 0, 0, 0, 3],\n",
    "    [4, 0, 0, 8, 0, 3, 0, 0, 1],\n",
    "    [7, 0, 0, 0, 2, 0, 0, 0, 6],\n",
    "    [0, 6, 0, 0, 0, 0, 2, 8, 0],\n",
    "    [0, 0, 0, 4, 1, 9, 0, 0, 5],\n",
    "    [0, 0, 0, 0, 8, 0, 0, 7, 9]\n",
    "])\n",
    "\n",
    "if solve(puzzle):\n",
    "    print(\"Solved Sudoku:\")\n",
    "    print(puzzle)\n",
    "else:\n",
    "    print(\"No solution exists.\")\n"
   ]
  },
  {
   "cell_type": "code",
   "execution_count": null,
   "id": "01e576e8-d076-47da-abea-36632d75a3f6",
   "metadata": {},
   "outputs": [],
   "source": []
  }
 ],
 "metadata": {
  "kernelspec": {
   "display_name": "Python 3 (ipykernel)",
   "language": "python",
   "name": "python3"
  },
  "language_info": {
   "codemirror_mode": {
    "name": "ipython",
    "version": 3
   },
   "file_extension": ".py",
   "mimetype": "text/x-python",
   "name": "python",
   "nbconvert_exporter": "python",
   "pygments_lexer": "ipython3",
   "version": "3.12.7"
  }
 },
 "nbformat": 4,
 "nbformat_minor": 5
}
